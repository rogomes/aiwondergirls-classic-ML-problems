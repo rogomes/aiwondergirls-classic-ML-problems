{
 "cells": [
  {
   "cell_type": "markdown",
   "metadata": {},
   "source": [
    "# Code Singnal Arcade\n",
    "\n",
    "Find here the progress of the [Code Signal Arcade](https://app.codesignal.com/arcade/intro/level-1) problems and solutions in Python"
   ]
  },
  {
   "cell_type": "markdown",
   "metadata": {},
   "source": [
    "# The Journey Begins\n",
    "\n",
    "This session has 3 problems\n",
    "\n",
    "# 1. add\n",
    "\n",
    "Write a function that returns the sum of two numbers.\n",
    "\n",
    "**Example**\n",
    "\n",
    "For `param1 = 1` and `param2 = 2`, the output should be `add(param1, param2) = 3`.\n",
    "\n",
    "**Solution:**"
   ]
  },
  {
   "cell_type": "code",
   "execution_count": 1,
   "metadata": {},
   "outputs": [
    {
     "data": {
      "text/plain": [
       "3"
      ]
     },
     "execution_count": 1,
     "metadata": {},
     "output_type": "execute_result"
    }
   ],
   "source": [
    "def add(param1, param2):\n",
    "    a= param1 + param2\n",
    "    return a\n",
    "\n",
    "add(1,2)"
   ]
  },
  {
   "cell_type": "markdown",
   "metadata": {},
   "source": [
    "# 2. centuryFromYear\n",
    "\n",
    "Given a year, return the century it is in. The first century spans from the year 1 up to and including the year 100, the second - from the year 101 up to and including the year 200, etc.\n",
    "\n",
    "**Example**\n",
    "\n",
    "For `year = 1905`, the output should be `centuryFromYear(year) = 20`;\n",
    "\n",
    "For `year = 1700`, the output should be `centuryFromYear(year) = 17.`\n",
    "\n",
    "**Solution:**"
   ]
  },
  {
   "cell_type": "code",
   "execution_count": 2,
   "metadata": {},
   "outputs": [
    {
     "data": {
      "text/plain": [
       "18"
      ]
     },
     "execution_count": 2,
     "metadata": {},
     "output_type": "execute_result"
    }
   ],
   "source": [
    "def centuryFromYear(year):\n",
    "    \n",
    "    if year <= 100: \n",
    "        century = 1\n",
    "    else:   \n",
    "        if year%100 == 0:    \n",
    "            century = year/100\n",
    "        else:   \n",
    "            century = year/100 + 1  \n",
    "        \n",
    "    return int(century)\n",
    "\n",
    "centuryFromYear(1800)"
   ]
  },
  {
   "cell_type": "markdown",
   "metadata": {},
   "source": [
    "# 3. checkPalindrome\n",
    "\n",
    "Given the string, check if it is a *palindrome.\n",
    "\n",
    "**Example:\n",
    "\n",
    "For `inputString = \"aabaa\"`, the output should be `checkPalindrome(inputString) = true`;\n",
    "For `inputString = \"abac\"`, the output should be `checkPalindrome(inputString) = false`;\n",
    "For `inputString = \"a\"`, the output should be `checkPalindrome(inputString) = true`.\n",
    "\n",
    "\n",
    "**Palindrome is a string that doesn't changed when reversed (it reads the same backward and forward).\n",
    "\n",
    "*Examples:\n",
    "- \"eye\" is a palindrome\n",
    "- \"noon\" is a palindrome\n",
    "- \"decaf faced\" is a palindrome\n",
    "- \"taco cat\" is not a palindrome (backwards it spells \"tac ocat\")\n",
    "- \"racecars\" is not a palindrome (backwards it spells \"sracecar\")\n",
    "\n",
    "**Solution:\n"
   ]
  },
  {
   "cell_type": "code",
   "execution_count": 5,
   "metadata": {},
   "outputs": [
    {
     "name": "stdout",
     "output_type": "stream",
     "text": [
      "True False\n"
     ]
    }
   ],
   "source": [
    "def checkPalindrome(inputString):\n",
    "    \n",
    "    inversed= inputString[::-1]\n",
    "    \n",
    "    return(inversed==inputString)\n",
    "\n",
    "print(checkPalindrome('hannah'), checkPalindrome('Hannah'))"
   ]
  },
  {
   "cell_type": "markdown",
   "metadata": {},
   "source": [
    "# Edge of the Ocean!\n",
    "\n",
    "# 4. adjacentElementsProduct\n",
    "\n",
    "\n",
    "Given an array of integers, find the pair of adjacent elements that has the largest product and return that product.\n",
    "\n",
    "**Example**\n",
    "\n",
    "For `inputArray = [3, 6, -2, -5, 7, 3]`, the output should be `adjacentElementsProduct(inputArray) = 21`.\n",
    "\n",
    "`7` and `3` produce the largest product.\n",
    "\n",
    "**Solution:**"
   ]
  },
  {
   "cell_type": "code",
   "execution_count": 1,
   "metadata": {},
   "outputs": [
    {
     "data": {
      "text/plain": [
       "21"
      ]
     },
     "execution_count": 1,
     "metadata": {},
     "output_type": "execute_result"
    }
   ],
   "source": [
    "def adjacentElementsProduct(inputArray):\n",
    "    maxvalue = - float('inf')\n",
    " \n",
    "    for i in range(len(inputArray)-1):\n",
    "        value = inputArray[i]*inputArray[i+1]\n",
    "        \n",
    "        if value >= maxvalue: \n",
    "            maxvalue = value\n",
    "        else:\n",
    "            maxvalue = maxvalue    \n",
    "    \n",
    "    return maxvalue          \n",
    "\n",
    "adjacentElementsProduct([3, 6, -2, -5, 7, 3])"
   ]
  },
  {
   "cell_type": "markdown",
   "metadata": {},
   "source": [
    "# 5. adjacentElementsProduct\n",
    "\n",
    "Below we will define an `n`-interesting polygon. Your task is to find the area of a polygon for a given `n`.\n",
    "\n",
    "A `1`-interesting polygon is just a square with a side of length `1`. An n-interesting polygon is obtained by taking the `n - 1`-interesting polygon and appending 1-interesting polygons to its rim, side by side. You can see the `1`-, `2`-, `3`- and `4`-interesting polygons in the picture below.\n",
    "\n",
    "<img src=\"area.png\" width=\"480\">\n",
    "\n",
    "**Example\n",
    "\n",
    "- For `n = 2`, the output should be `shapeArea(n) = 5`;\n",
    "- For `n = 3`, the output should be `shapeArea(n) = 13`."
   ]
  },
  {
   "cell_type": "code",
   "execution_count": null,
   "metadata": {},
   "outputs": [],
   "source": []
  },
  {
   "cell_type": "code",
   "execution_count": null,
   "metadata": {},
   "outputs": [],
   "source": []
  },
  {
   "cell_type": "code",
   "execution_count": null,
   "metadata": {},
   "outputs": [],
   "source": []
  }
 ],
 "metadata": {
  "kernelspec": {
   "display_name": "Python 3",
   "language": "python",
   "name": "python3"
  },
  "language_info": {
   "codemirror_mode": {
    "name": "ipython",
    "version": 3
   },
   "file_extension": ".py",
   "mimetype": "text/x-python",
   "name": "python",
   "nbconvert_exporter": "python",
   "pygments_lexer": "ipython3",
   "version": "3.7.0"
  }
 },
 "nbformat": 4,
 "nbformat_minor": 4
}
