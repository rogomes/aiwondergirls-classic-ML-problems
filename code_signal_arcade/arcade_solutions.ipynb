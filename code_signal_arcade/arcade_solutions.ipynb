{
 "cells": [
  {
   "cell_type": "markdown",
   "metadata": {},
   "source": [
    "# Code Singnal Arcade\n",
    "\n",
    "Find here the progress of the [Code Signal Arcade](https://app.codesignal.com/arcade/intro/level-1) problems and solutions in Python"
   ]
  },
  {
   "cell_type": "markdown",
   "metadata": {},
   "source": [
    "# The Journey Begins\n",
    "\n",
    "This session has 3 problems\n",
    "\n",
    "# 1. add\n",
    "\n",
    "Write a function that returns the sum of two numbers.\n",
    "\n",
    "**Example**\n",
    "\n",
    "For `param1 = 1` and `param2 = 2`, the output should be `add(param1, param2) = 3`.\n",
    "\n",
    "**Solution:**"
   ]
  },
  {
   "cell_type": "code",
   "execution_count": 1,
   "metadata": {},
   "outputs": [
    {
     "data": {
      "text/plain": [
       "3"
      ]
     },
     "execution_count": 1,
     "metadata": {},
     "output_type": "execute_result"
    }
   ],
   "source": [
    "def add(param1, param2):\n",
    "    a= param1 + param2\n",
    "    return a\n",
    "\n",
    "add(1,2)"
   ]
  },
  {
   "cell_type": "markdown",
   "metadata": {},
   "source": [
    "# 2. centuryFromYear\n",
    "\n",
    "Given a year, return the century it is in. The first century spans from the year 1 up to and including the year 100, the second - from the year 101 up to and including the year 200, etc.\n",
    "\n",
    "**Example**\n",
    "\n",
    "For `year = 1905`, the output should be `centuryFromYear(year) = 20`;\n",
    "\n",
    "For `year = 1700`, the output should be `centuryFromYear(year) = 17.`\n",
    "\n",
    "**Solution:**"
   ]
  },
  {
   "cell_type": "code",
   "execution_count": 2,
   "metadata": {},
   "outputs": [
    {
     "data": {
      "text/plain": [
       "18"
      ]
     },
     "execution_count": 2,
     "metadata": {},
     "output_type": "execute_result"
    }
   ],
   "source": [
    "def centuryFromYear(year):\n",
    "    \n",
    "    if year <= 100: \n",
    "        century = 1\n",
    "    else:   \n",
    "        if year%100 == 0:    \n",
    "            century = year/100\n",
    "        else:   \n",
    "            century = year/100 + 1  \n",
    "        \n",
    "    return int(century)\n",
    "\n",
    "centuryFromYear(1800)"
   ]
  },
  {
   "cell_type": "markdown",
   "metadata": {},
   "source": [
    "# 3. checkPalindrome\n",
    "\n",
    "Given the string, check if it is a *palindrome.\n",
    "\n",
    "**Example:\n",
    "\n",
    "For `inputString = \"aabaa\"`, the output should be `checkPalindrome(inputString) = true`;\n",
    "For `inputString = \"abac\"`, the output should be `checkPalindrome(inputString) = false`;\n",
    "For `inputString = \"a\"`, the output should be `checkPalindrome(inputString) = true`.\n",
    "\n",
    "\n",
    "**Palindrome is a string that doesn't changed when reversed (it reads the same backward and forward).\n",
    "\n",
    "*Examples:\n",
    "- \"eye\" is a palindrome\n",
    "- \"noon\" is a palindrome\n",
    "- \"decaf faced\" is a palindrome\n",
    "- \"taco cat\" is not a palindrome (backwards it spells \"tac ocat\")\n",
    "- \"racecars\" is not a palindrome (backwards it spells \"sracecar\")\n"
   ]
  },
  {
   "cell_type": "code",
   "execution_count": null,
   "metadata": {},
   "outputs": [],
   "source": []
  }
 ],
 "metadata": {
  "kernelspec": {
   "display_name": "Python 3",
   "language": "python",
   "name": "python3"
  },
  "language_info": {
   "codemirror_mode": {
    "name": "ipython",
    "version": 3
   },
   "file_extension": ".py",
   "mimetype": "text/x-python",
   "name": "python",
   "nbconvert_exporter": "python",
   "pygments_lexer": "ipython3",
   "version": "3.7.0"
  }
 },
 "nbformat": 4,
 "nbformat_minor": 4
}
