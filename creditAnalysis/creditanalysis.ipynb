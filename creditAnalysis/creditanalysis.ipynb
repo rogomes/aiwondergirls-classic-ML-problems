{
  "nbformat": 4,
  "nbformat_minor": 0,
  "metadata": {
    "colab": {
      "name": "creditanalysis.ipynb",
      "provenance": []
    },
    "kernelspec": {
      "name": "python3",
      "display_name": "Python 3"
    },
    "language_info": {
      "name": "python"
    }
  },
  "cells": [
    {
      "cell_type": "code",
      "metadata": {
        "colab": {
          "base_uri": "https://localhost:8080/"
        },
        "id": "gAyk-Um4Undg",
        "outputId": "c7204b4d-d296-4209-eff1-26fae7886e08"
      },
      "source": [
        "from google.colab import drive\n",
        "\n",
        "drive.mount('/content/gdrive')"
      ],
      "execution_count": 83,
      "outputs": [
        {
          "output_type": "stream",
          "text": [
            "Drive already mounted at /content/gdrive; to attempt to forcibly remount, call drive.mount(\"/content/gdrive\", force_remount=True).\n"
          ],
          "name": "stdout"
        }
      ]
    },
    {
      "cell_type": "code",
      "metadata": {
        "colab": {
          "base_uri": "https://localhost:8080/"
        },
        "id": "HAMnj5DyxbQ3",
        "outputId": "06c78c1c-4fb4-4a50-d9b4-a493072e41b1"
      },
      "source": [
        "!ls \"/content/gdrive/My Drive/Credit Risk Analysis\""
      ],
      "execution_count": 84,
      "outputs": [
        {
          "output_type": "stream",
          "text": [
            "bankloans.csv  creditanalysis.ipynb\n"
          ],
          "name": "stdout"
        }
      ]
    },
    {
      "cell_type": "code",
      "metadata": {
        "id": "SNoNdmz0xmkn"
      },
      "source": [
        "import pandas as pd\n",
        "import numpy as np\n",
        "import matplotlib.pyplot as plt\n",
        "import seaborn as sns\n",
        "\n",
        "%matplotlib inline"
      ],
      "execution_count": 85,
      "outputs": []
    },
    {
      "cell_type": "code",
      "metadata": {
        "id": "NnV4z25HxnSl"
      },
      "source": [
        "#load dataset\n",
        "data = pd.read_csv(\"/content/gdrive/My Drive/Credit Risk Analysis/bankloans.csv\")"
      ],
      "execution_count": 86,
      "outputs": []
    },
    {
      "cell_type": "code",
      "metadata": {
        "colab": {
          "base_uri": "https://localhost:8080/",
          "height": 204
        },
        "id": "YhUqgeZzx1C_",
        "outputId": "cc12c0e4-a28a-4b15-b8d5-0336cb59855d"
      },
      "source": [
        "data.head()\n",
        "#1= defaulted, 0=Never defaulted"
      ],
      "execution_count": 87,
      "outputs": [
        {
          "output_type": "execute_result",
          "data": {
            "text/html": [
              "<div>\n",
              "<style scoped>\n",
              "    .dataframe tbody tr th:only-of-type {\n",
              "        vertical-align: middle;\n",
              "    }\n",
              "\n",
              "    .dataframe tbody tr th {\n",
              "        vertical-align: top;\n",
              "    }\n",
              "\n",
              "    .dataframe thead th {\n",
              "        text-align: right;\n",
              "    }\n",
              "</style>\n",
              "<table border=\"1\" class=\"dataframe\">\n",
              "  <thead>\n",
              "    <tr style=\"text-align: right;\">\n",
              "      <th></th>\n",
              "      <th>age</th>\n",
              "      <th>ed</th>\n",
              "      <th>employ</th>\n",
              "      <th>address</th>\n",
              "      <th>income</th>\n",
              "      <th>debtinc</th>\n",
              "      <th>creddebt</th>\n",
              "      <th>othdebt</th>\n",
              "      <th>default</th>\n",
              "    </tr>\n",
              "  </thead>\n",
              "  <tbody>\n",
              "    <tr>\n",
              "      <th>0</th>\n",
              "      <td>41</td>\n",
              "      <td>3</td>\n",
              "      <td>17</td>\n",
              "      <td>12</td>\n",
              "      <td>176</td>\n",
              "      <td>9.3</td>\n",
              "      <td>11.359392</td>\n",
              "      <td>5.008608</td>\n",
              "      <td>1.0</td>\n",
              "    </tr>\n",
              "    <tr>\n",
              "      <th>1</th>\n",
              "      <td>27</td>\n",
              "      <td>1</td>\n",
              "      <td>10</td>\n",
              "      <td>6</td>\n",
              "      <td>31</td>\n",
              "      <td>17.3</td>\n",
              "      <td>1.362202</td>\n",
              "      <td>4.000798</td>\n",
              "      <td>0.0</td>\n",
              "    </tr>\n",
              "    <tr>\n",
              "      <th>2</th>\n",
              "      <td>40</td>\n",
              "      <td>1</td>\n",
              "      <td>15</td>\n",
              "      <td>14</td>\n",
              "      <td>55</td>\n",
              "      <td>5.5</td>\n",
              "      <td>0.856075</td>\n",
              "      <td>2.168925</td>\n",
              "      <td>0.0</td>\n",
              "    </tr>\n",
              "    <tr>\n",
              "      <th>3</th>\n",
              "      <td>41</td>\n",
              "      <td>1</td>\n",
              "      <td>15</td>\n",
              "      <td>14</td>\n",
              "      <td>120</td>\n",
              "      <td>2.9</td>\n",
              "      <td>2.658720</td>\n",
              "      <td>0.821280</td>\n",
              "      <td>0.0</td>\n",
              "    </tr>\n",
              "    <tr>\n",
              "      <th>4</th>\n",
              "      <td>24</td>\n",
              "      <td>2</td>\n",
              "      <td>2</td>\n",
              "      <td>0</td>\n",
              "      <td>28</td>\n",
              "      <td>17.3</td>\n",
              "      <td>1.787436</td>\n",
              "      <td>3.056564</td>\n",
              "      <td>1.0</td>\n",
              "    </tr>\n",
              "  </tbody>\n",
              "</table>\n",
              "</div>"
            ],
            "text/plain": [
              "   age  ed  employ  address  income  debtinc   creddebt   othdebt  default\n",
              "0   41   3      17       12     176      9.3  11.359392  5.008608      1.0\n",
              "1   27   1      10        6      31     17.3   1.362202  4.000798      0.0\n",
              "2   40   1      15       14      55      5.5   0.856075  2.168925      0.0\n",
              "3   41   1      15       14     120      2.9   2.658720  0.821280      0.0\n",
              "4   24   2       2        0      28     17.3   1.787436  3.056564      1.0"
            ]
          },
          "metadata": {
            "tags": []
          },
          "execution_count": 87
        }
      ]
    },
    {
      "cell_type": "code",
      "metadata": {
        "colab": {
          "base_uri": "https://localhost:8080/"
        },
        "id": "NqX9f5UIy2fV",
        "outputId": "f18cedfd-6dda-4874-ba58-febb1d8a1dce"
      },
      "source": [
        "data.shape"
      ],
      "execution_count": 88,
      "outputs": [
        {
          "output_type": "execute_result",
          "data": {
            "text/plain": [
              "(850, 9)"
            ]
          },
          "metadata": {
            "tags": []
          },
          "execution_count": 88
        }
      ]
    },
    {
      "cell_type": "code",
      "metadata": {
        "colab": {
          "base_uri": "https://localhost:8080/"
        },
        "id": "1VZGOteEypD4",
        "outputId": "7bf541c2-9eb0-41e7-a052-4dc339100815"
      },
      "source": [
        "data.isnull().sum()"
      ],
      "execution_count": 89,
      "outputs": [
        {
          "output_type": "execute_result",
          "data": {
            "text/plain": [
              "age           0\n",
              "ed            0\n",
              "employ        0\n",
              "address       0\n",
              "income        0\n",
              "debtinc       0\n",
              "creddebt      0\n",
              "othdebt       0\n",
              "default     150\n",
              "dtype: int64"
            ]
          },
          "metadata": {
            "tags": []
          },
          "execution_count": 89
        }
      ]
    },
    {
      "cell_type": "code",
      "metadata": {
        "id": "0l8Ok47tzPSn"
      },
      "source": [
        "df = data[data['default'].notnull()]"
      ],
      "execution_count": 90,
      "outputs": []
    },
    {
      "cell_type": "code",
      "metadata": {
        "colab": {
          "base_uri": "https://localhost:8080/",
          "height": 204
        },
        "id": "KeMqa2rN0UDQ",
        "outputId": "c260a1d0-a071-4a2e-b4b9-578e376438ae"
      },
      "source": [
        "df.head()"
      ],
      "execution_count": 91,
      "outputs": [
        {
          "output_type": "execute_result",
          "data": {
            "text/html": [
              "<div>\n",
              "<style scoped>\n",
              "    .dataframe tbody tr th:only-of-type {\n",
              "        vertical-align: middle;\n",
              "    }\n",
              "\n",
              "    .dataframe tbody tr th {\n",
              "        vertical-align: top;\n",
              "    }\n",
              "\n",
              "    .dataframe thead th {\n",
              "        text-align: right;\n",
              "    }\n",
              "</style>\n",
              "<table border=\"1\" class=\"dataframe\">\n",
              "  <thead>\n",
              "    <tr style=\"text-align: right;\">\n",
              "      <th></th>\n",
              "      <th>age</th>\n",
              "      <th>ed</th>\n",
              "      <th>employ</th>\n",
              "      <th>address</th>\n",
              "      <th>income</th>\n",
              "      <th>debtinc</th>\n",
              "      <th>creddebt</th>\n",
              "      <th>othdebt</th>\n",
              "      <th>default</th>\n",
              "    </tr>\n",
              "  </thead>\n",
              "  <tbody>\n",
              "    <tr>\n",
              "      <th>0</th>\n",
              "      <td>41</td>\n",
              "      <td>3</td>\n",
              "      <td>17</td>\n",
              "      <td>12</td>\n",
              "      <td>176</td>\n",
              "      <td>9.3</td>\n",
              "      <td>11.359392</td>\n",
              "      <td>5.008608</td>\n",
              "      <td>1.0</td>\n",
              "    </tr>\n",
              "    <tr>\n",
              "      <th>1</th>\n",
              "      <td>27</td>\n",
              "      <td>1</td>\n",
              "      <td>10</td>\n",
              "      <td>6</td>\n",
              "      <td>31</td>\n",
              "      <td>17.3</td>\n",
              "      <td>1.362202</td>\n",
              "      <td>4.000798</td>\n",
              "      <td>0.0</td>\n",
              "    </tr>\n",
              "    <tr>\n",
              "      <th>2</th>\n",
              "      <td>40</td>\n",
              "      <td>1</td>\n",
              "      <td>15</td>\n",
              "      <td>14</td>\n",
              "      <td>55</td>\n",
              "      <td>5.5</td>\n",
              "      <td>0.856075</td>\n",
              "      <td>2.168925</td>\n",
              "      <td>0.0</td>\n",
              "    </tr>\n",
              "    <tr>\n",
              "      <th>3</th>\n",
              "      <td>41</td>\n",
              "      <td>1</td>\n",
              "      <td>15</td>\n",
              "      <td>14</td>\n",
              "      <td>120</td>\n",
              "      <td>2.9</td>\n",
              "      <td>2.658720</td>\n",
              "      <td>0.821280</td>\n",
              "      <td>0.0</td>\n",
              "    </tr>\n",
              "    <tr>\n",
              "      <th>4</th>\n",
              "      <td>24</td>\n",
              "      <td>2</td>\n",
              "      <td>2</td>\n",
              "      <td>0</td>\n",
              "      <td>28</td>\n",
              "      <td>17.3</td>\n",
              "      <td>1.787436</td>\n",
              "      <td>3.056564</td>\n",
              "      <td>1.0</td>\n",
              "    </tr>\n",
              "  </tbody>\n",
              "</table>\n",
              "</div>"
            ],
            "text/plain": [
              "   age  ed  employ  address  income  debtinc   creddebt   othdebt  default\n",
              "0   41   3      17       12     176      9.3  11.359392  5.008608      1.0\n",
              "1   27   1      10        6      31     17.3   1.362202  4.000798      0.0\n",
              "2   40   1      15       14      55      5.5   0.856075  2.168925      0.0\n",
              "3   41   1      15       14     120      2.9   2.658720  0.821280      0.0\n",
              "4   24   2       2        0      28     17.3   1.787436  3.056564      1.0"
            ]
          },
          "metadata": {
            "tags": []
          },
          "execution_count": 91
        }
      ]
    },
    {
      "cell_type": "code",
      "metadata": {
        "colab": {
          "base_uri": "https://localhost:8080/"
        },
        "id": "q6OUtVFKbMNl",
        "outputId": "4088291a-f738-45e1-c06f-5adba35f75fa"
      },
      "source": [
        "df.columns"
      ],
      "execution_count": 92,
      "outputs": [
        {
          "output_type": "execute_result",
          "data": {
            "text/plain": [
              "Index(['age', 'ed', 'employ', 'address', 'income', 'debtinc', 'creddebt',\n",
              "       'othdebt', 'default'],\n",
              "      dtype='object')"
            ]
          },
          "metadata": {
            "tags": []
          },
          "execution_count": 92
        }
      ]
    },
    {
      "cell_type": "code",
      "metadata": {
        "colab": {
          "base_uri": "https://localhost:8080/"
        },
        "id": "udGwag_P1gCm",
        "outputId": "a30030bb-9e3e-45a0-ecbe-78ea6f2bb7ee"
      },
      "source": [
        "df.shape"
      ],
      "execution_count": 93,
      "outputs": [
        {
          "output_type": "execute_result",
          "data": {
            "text/plain": [
              "(700, 9)"
            ]
          },
          "metadata": {
            "tags": []
          },
          "execution_count": 93
        }
      ]
    },
    {
      "cell_type": "code",
      "metadata": {
        "colab": {
          "base_uri": "https://localhost:8080/",
          "height": 297
        },
        "id": "Tq8BMO2T1iQj",
        "outputId": "fb14c3cd-cdaa-4562-8f87-73e274141875"
      },
      "source": [
        "df.describe()"
      ],
      "execution_count": 94,
      "outputs": [
        {
          "output_type": "execute_result",
          "data": {
            "text/html": [
              "<div>\n",
              "<style scoped>\n",
              "    .dataframe tbody tr th:only-of-type {\n",
              "        vertical-align: middle;\n",
              "    }\n",
              "\n",
              "    .dataframe tbody tr th {\n",
              "        vertical-align: top;\n",
              "    }\n",
              "\n",
              "    .dataframe thead th {\n",
              "        text-align: right;\n",
              "    }\n",
              "</style>\n",
              "<table border=\"1\" class=\"dataframe\">\n",
              "  <thead>\n",
              "    <tr style=\"text-align: right;\">\n",
              "      <th></th>\n",
              "      <th>age</th>\n",
              "      <th>ed</th>\n",
              "      <th>employ</th>\n",
              "      <th>address</th>\n",
              "      <th>income</th>\n",
              "      <th>debtinc</th>\n",
              "      <th>creddebt</th>\n",
              "      <th>othdebt</th>\n",
              "      <th>default</th>\n",
              "    </tr>\n",
              "  </thead>\n",
              "  <tbody>\n",
              "    <tr>\n",
              "      <th>count</th>\n",
              "      <td>700.000000</td>\n",
              "      <td>700.000000</td>\n",
              "      <td>700.000000</td>\n",
              "      <td>700.000000</td>\n",
              "      <td>700.000000</td>\n",
              "      <td>700.000000</td>\n",
              "      <td>700.000000</td>\n",
              "      <td>700.000000</td>\n",
              "      <td>700.000000</td>\n",
              "    </tr>\n",
              "    <tr>\n",
              "      <th>mean</th>\n",
              "      <td>34.860000</td>\n",
              "      <td>1.722857</td>\n",
              "      <td>8.388571</td>\n",
              "      <td>8.278571</td>\n",
              "      <td>45.601429</td>\n",
              "      <td>10.260571</td>\n",
              "      <td>1.553553</td>\n",
              "      <td>3.058209</td>\n",
              "      <td>0.261429</td>\n",
              "    </tr>\n",
              "    <tr>\n",
              "      <th>std</th>\n",
              "      <td>7.997342</td>\n",
              "      <td>0.928206</td>\n",
              "      <td>6.658039</td>\n",
              "      <td>6.824877</td>\n",
              "      <td>36.814226</td>\n",
              "      <td>6.827234</td>\n",
              "      <td>2.117197</td>\n",
              "      <td>3.287555</td>\n",
              "      <td>0.439727</td>\n",
              "    </tr>\n",
              "    <tr>\n",
              "      <th>min</th>\n",
              "      <td>20.000000</td>\n",
              "      <td>1.000000</td>\n",
              "      <td>0.000000</td>\n",
              "      <td>0.000000</td>\n",
              "      <td>14.000000</td>\n",
              "      <td>0.400000</td>\n",
              "      <td>0.011696</td>\n",
              "      <td>0.045584</td>\n",
              "      <td>0.000000</td>\n",
              "    </tr>\n",
              "    <tr>\n",
              "      <th>25%</th>\n",
              "      <td>29.000000</td>\n",
              "      <td>1.000000</td>\n",
              "      <td>3.000000</td>\n",
              "      <td>3.000000</td>\n",
              "      <td>24.000000</td>\n",
              "      <td>5.000000</td>\n",
              "      <td>0.369059</td>\n",
              "      <td>1.044178</td>\n",
              "      <td>0.000000</td>\n",
              "    </tr>\n",
              "    <tr>\n",
              "      <th>50%</th>\n",
              "      <td>34.000000</td>\n",
              "      <td>1.000000</td>\n",
              "      <td>7.000000</td>\n",
              "      <td>7.000000</td>\n",
              "      <td>34.000000</td>\n",
              "      <td>8.600000</td>\n",
              "      <td>0.854869</td>\n",
              "      <td>1.987567</td>\n",
              "      <td>0.000000</td>\n",
              "    </tr>\n",
              "    <tr>\n",
              "      <th>75%</th>\n",
              "      <td>40.000000</td>\n",
              "      <td>2.000000</td>\n",
              "      <td>12.000000</td>\n",
              "      <td>12.000000</td>\n",
              "      <td>55.000000</td>\n",
              "      <td>14.125000</td>\n",
              "      <td>1.901955</td>\n",
              "      <td>3.923065</td>\n",
              "      <td>1.000000</td>\n",
              "    </tr>\n",
              "    <tr>\n",
              "      <th>max</th>\n",
              "      <td>56.000000</td>\n",
              "      <td>5.000000</td>\n",
              "      <td>31.000000</td>\n",
              "      <td>34.000000</td>\n",
              "      <td>446.000000</td>\n",
              "      <td>41.300000</td>\n",
              "      <td>20.561310</td>\n",
              "      <td>27.033600</td>\n",
              "      <td>1.000000</td>\n",
              "    </tr>\n",
              "  </tbody>\n",
              "</table>\n",
              "</div>"
            ],
            "text/plain": [
              "              age          ed      employ  ...    creddebt     othdebt     default\n",
              "count  700.000000  700.000000  700.000000  ...  700.000000  700.000000  700.000000\n",
              "mean    34.860000    1.722857    8.388571  ...    1.553553    3.058209    0.261429\n",
              "std      7.997342    0.928206    6.658039  ...    2.117197    3.287555    0.439727\n",
              "min     20.000000    1.000000    0.000000  ...    0.011696    0.045584    0.000000\n",
              "25%     29.000000    1.000000    3.000000  ...    0.369059    1.044178    0.000000\n",
              "50%     34.000000    1.000000    7.000000  ...    0.854869    1.987567    0.000000\n",
              "75%     40.000000    2.000000   12.000000  ...    1.901955    3.923065    1.000000\n",
              "max     56.000000    5.000000   31.000000  ...   20.561310   27.033600    1.000000\n",
              "\n",
              "[8 rows x 9 columns]"
            ]
          },
          "metadata": {
            "tags": []
          },
          "execution_count": 94
        }
      ]
    },
    {
      "cell_type": "code",
      "metadata": {
        "colab": {
          "base_uri": "https://localhost:8080/"
        },
        "id": "xom0IgT51o_5",
        "outputId": "e8cf2593-612f-4ef6-9bf6-65d259d1d8f4"
      },
      "source": [
        "df.info()"
      ],
      "execution_count": 95,
      "outputs": [
        {
          "output_type": "stream",
          "text": [
            "<class 'pandas.core.frame.DataFrame'>\n",
            "Int64Index: 700 entries, 0 to 699\n",
            "Data columns (total 9 columns):\n",
            " #   Column    Non-Null Count  Dtype  \n",
            "---  ------    --------------  -----  \n",
            " 0   age       700 non-null    int64  \n",
            " 1   ed        700 non-null    int64  \n",
            " 2   employ    700 non-null    int64  \n",
            " 3   address   700 non-null    int64  \n",
            " 4   income    700 non-null    int64  \n",
            " 5   debtinc   700 non-null    float64\n",
            " 6   creddebt  700 non-null    float64\n",
            " 7   othdebt   700 non-null    float64\n",
            " 8   default   700 non-null    float64\n",
            "dtypes: float64(4), int64(5)\n",
            "memory usage: 54.7 KB\n"
          ],
          "name": "stdout"
        }
      ]
    },
    {
      "cell_type": "code",
      "metadata": {
        "colab": {
          "base_uri": "https://localhost:8080/"
        },
        "id": "lASqXbZ_O8P6",
        "outputId": "8067987a-0e7e-44b1-cb1a-dcaabaa134d2"
      },
      "source": [
        "df.groupby('ed')[\"default\"].count()"
      ],
      "execution_count": 96,
      "outputs": [
        {
          "output_type": "execute_result",
          "data": {
            "text/plain": [
              "ed\n",
              "1    372\n",
              "2    198\n",
              "3     87\n",
              "4     38\n",
              "5      5\n",
              "Name: default, dtype: int64"
            ]
          },
          "metadata": {
            "tags": []
          },
          "execution_count": 96
        }
      ]
    },
    {
      "cell_type": "code",
      "metadata": {
        "colab": {
          "base_uri": "https://localhost:8080/",
          "height": 634
        },
        "id": "PKT3EJyHP5Sa",
        "outputId": "bf81b8a4-f09d-415c-a783-2d14af1379e2"
      },
      "source": [
        "fig_dims = (20, 10)\n",
        "fig, ax = plt.subplots(figsize=fig_dims)\n",
        "sns.countplot(x=\"ed\", hue='default',data=df)"
      ],
      "execution_count": 97,
      "outputs": [
        {
          "output_type": "execute_result",
          "data": {
            "text/plain": [
              "<matplotlib.axes._subplots.AxesSubplot at 0x7f77c3240e90>"
            ]
          },
          "metadata": {
            "tags": []
          },
          "execution_count": 97
        },
        {
          "output_type": "display_data",
          "data": {
            "image/png": "[encoded data removed]",
            "text/plain": [
              "<Figure size 1440x720 with 1 Axes>"
            ]
          },
          "metadata": {
            "tags": [],
            "needs_background": "light"
          }
        }
      ]
    },
    {
      "cell_type": "code",
      "metadata": {
        "colab": {
          "base_uri": "https://localhost:8080/",
          "height": 634
        },
        "id": "FB0AYEcfdWvh",
        "outputId": "1a58a89b-a56e-4665-ac7d-573b0a787053"
      },
      "source": [
        "fig_dims = (20, 10)\n",
        "fig, ax = plt.subplots(figsize=fig_dims)\n",
        "sns.boxplot(x='age',y='default' ,data = df)"
      ],
      "execution_count": 98,
      "outputs": [
        {
          "output_type": "execute_result",
          "data": {
            "text/plain": [
              "<matplotlib.axes._subplots.AxesSubplot at 0x7f77c2ec4890>"
            ]
          },
          "metadata": {
            "tags": []
          },
          "execution_count": 98
        },
        {
          "output_type": "display_data",
          "data": {
            "image/png": "[encoded data removed]",
            "text/plain": [
              "<Figure size 1440x720 with 1 Axes>"
            ]
          },
          "metadata": {
            "tags": [],
            "needs_background": "light"
          }
        }
      ]
    },
    {
      "cell_type": "code",
      "metadata": {
        "colab": {
          "base_uri": "https://localhost:8080/"
        },
        "id": "d_qqlq2WVr-T",
        "outputId": "480072b8-21cd-4479-a595-56453f2edb5a"
      },
      "source": [
        "df.groupby(['default'])['age'].count()"
      ],
      "execution_count": 99,
      "outputs": [
        {
          "output_type": "execute_result",
          "data": {
            "text/plain": [
              "default\n",
              "0.0    517\n",
              "1.0    183\n",
              "Name: age, dtype: int64"
            ]
          },
          "metadata": {
            "tags": []
          },
          "execution_count": 99
        }
      ]
    },
    {
      "cell_type": "code",
      "metadata": {
        "colab": {
          "base_uri": "https://localhost:8080/",
          "height": 634
        },
        "id": "NeZjvAWBZH9T",
        "outputId": "c959bb0d-28b9-40e4-8552-e1a2d81e8988"
      },
      "source": [
        "fig_dims = (20, 10)\n",
        "fig, ax = plt.subplots(figsize=fig_dims)\n",
        "sns.countplot(x=\"age\", hue='default',data=df)"
      ],
      "execution_count": 100,
      "outputs": [
        {
          "output_type": "execute_result",
          "data": {
            "text/plain": [
              "<matplotlib.axes._subplots.AxesSubplot at 0x7f77b9b41190>"
            ]
          },
          "metadata": {
            "tags": []
          },
          "execution_count": 100
        },
        {
          "output_type": "display_data",
          "data": {
            "image/png": "[encoded data removed]",
            "text/plain": [
              "<Figure size 1440x720 with 1 Axes>"
            ]
          },
          "metadata": {
            "tags": [],
            "needs_background": "light"
          }
        }
      ]
    },
    {
      "cell_type": "code",
      "metadata": {
        "colab": {
          "base_uri": "https://localhost:8080/",
          "height": 328
        },
        "id": "06K-f3Tza21a",
        "outputId": "18554c84-526e-4fac-f05e-564e45269972"
      },
      "source": [
        "df.corr()"
      ],
      "execution_count": 101,
      "outputs": [
        {
          "output_type": "execute_result",
          "data": {
            "text/html": [
              "<div>\n",
              "<style scoped>\n",
              "    .dataframe tbody tr th:only-of-type {\n",
              "        vertical-align: middle;\n",
              "    }\n",
              "\n",
              "    .dataframe tbody tr th {\n",
              "        vertical-align: top;\n",
              "    }\n",
              "\n",
              "    .dataframe thead th {\n",
              "        text-align: right;\n",
              "    }\n",
              "</style>\n",
              "<table border=\"1\" class=\"dataframe\">\n",
              "  <thead>\n",
              "    <tr style=\"text-align: right;\">\n",
              "      <th></th>\n",
              "      <th>age</th>\n",
              "      <th>ed</th>\n",
              "      <th>employ</th>\n",
              "      <th>address</th>\n",
              "      <th>income</th>\n",
              "      <th>debtinc</th>\n",
              "      <th>creddebt</th>\n",
              "      <th>othdebt</th>\n",
              "      <th>default</th>\n",
              "    </tr>\n",
              "  </thead>\n",
              "  <tbody>\n",
              "    <tr>\n",
              "      <th>age</th>\n",
              "      <td>1.000000</td>\n",
              "      <td>0.022325</td>\n",
              "      <td>0.536497</td>\n",
              "      <td>0.597591</td>\n",
              "      <td>0.478710</td>\n",
              "      <td>0.016398</td>\n",
              "      <td>0.295207</td>\n",
              "      <td>0.340217</td>\n",
              "      <td>-0.137657</td>\n",
              "    </tr>\n",
              "    <tr>\n",
              "      <th>ed</th>\n",
              "      <td>0.022325</td>\n",
              "      <td>1.000000</td>\n",
              "      <td>-0.153621</td>\n",
              "      <td>0.056919</td>\n",
              "      <td>0.235190</td>\n",
              "      <td>0.008838</td>\n",
              "      <td>0.088274</td>\n",
              "      <td>0.165459</td>\n",
              "      <td>0.114676</td>\n",
              "    </tr>\n",
              "    <tr>\n",
              "      <th>employ</th>\n",
              "      <td>0.536497</td>\n",
              "      <td>-0.153621</td>\n",
              "      <td>1.000000</td>\n",
              "      <td>0.322334</td>\n",
              "      <td>0.619681</td>\n",
              "      <td>-0.031182</td>\n",
              "      <td>0.403694</td>\n",
              "      <td>0.406091</td>\n",
              "      <td>-0.282978</td>\n",
              "    </tr>\n",
              "    <tr>\n",
              "      <th>address</th>\n",
              "      <td>0.597591</td>\n",
              "      <td>0.056919</td>\n",
              "      <td>0.322334</td>\n",
              "      <td>1.000000</td>\n",
              "      <td>0.316245</td>\n",
              "      <td>0.011323</td>\n",
              "      <td>0.208435</td>\n",
              "      <td>0.226514</td>\n",
              "      <td>-0.164451</td>\n",
              "    </tr>\n",
              "    <tr>\n",
              "      <th>income</th>\n",
              "      <td>0.478710</td>\n",
              "      <td>0.235190</td>\n",
              "      <td>0.619681</td>\n",
              "      <td>0.316245</td>\n",
              "      <td>1.000000</td>\n",
              "      <td>-0.026777</td>\n",
              "      <td>0.570199</td>\n",
              "      <td>0.610659</td>\n",
              "      <td>-0.070970</td>\n",
              "    </tr>\n",
              "    <tr>\n",
              "      <th>debtinc</th>\n",
              "      <td>0.016398</td>\n",
              "      <td>0.008838</td>\n",
              "      <td>-0.031182</td>\n",
              "      <td>0.011323</td>\n",
              "      <td>-0.026777</td>\n",
              "      <td>1.000000</td>\n",
              "      <td>0.501767</td>\n",
              "      <td>0.584870</td>\n",
              "      <td>0.389575</td>\n",
              "    </tr>\n",
              "    <tr>\n",
              "      <th>creddebt</th>\n",
              "      <td>0.295207</td>\n",
              "      <td>0.088274</td>\n",
              "      <td>0.403694</td>\n",
              "      <td>0.208435</td>\n",
              "      <td>0.570199</td>\n",
              "      <td>0.501767</td>\n",
              "      <td>1.000000</td>\n",
              "      <td>0.633104</td>\n",
              "      <td>0.244740</td>\n",
              "    </tr>\n",
              "    <tr>\n",
              "      <th>othdebt</th>\n",
              "      <td>0.340217</td>\n",
              "      <td>0.165459</td>\n",
              "      <td>0.406091</td>\n",
              "      <td>0.226514</td>\n",
              "      <td>0.610659</td>\n",
              "      <td>0.584870</td>\n",
              "      <td>0.633104</td>\n",
              "      <td>1.000000</td>\n",
              "      <td>0.145713</td>\n",
              "    </tr>\n",
              "    <tr>\n",
              "      <th>default</th>\n",
              "      <td>-0.137657</td>\n",
              "      <td>0.114676</td>\n",
              "      <td>-0.282978</td>\n",
              "      <td>-0.164451</td>\n",
              "      <td>-0.070970</td>\n",
              "      <td>0.389575</td>\n",
              "      <td>0.244740</td>\n",
              "      <td>0.145713</td>\n",
              "      <td>1.000000</td>\n",
              "    </tr>\n",
              "  </tbody>\n",
              "</table>\n",
              "</div>"
            ],
            "text/plain": [
              "               age        ed    employ  ...  creddebt   othdebt   default\n",
              "age       1.000000  0.022325  0.536497  ...  0.295207  0.340217 -0.137657\n",
              "ed        0.022325  1.000000 -0.153621  ...  0.088274  0.165459  0.114676\n",
              "employ    0.536497 -0.153621  1.000000  ...  0.403694  0.406091 -0.282978\n",
              "address   0.597591  0.056919  0.322334  ...  0.208435  0.226514 -0.164451\n",
              "income    0.478710  0.235190  0.619681  ...  0.570199  0.610659 -0.070970\n",
              "debtinc   0.016398  0.008838 -0.031182  ...  0.501767  0.584870  0.389575\n",
              "creddebt  0.295207  0.088274  0.403694  ...  1.000000  0.633104  0.244740\n",
              "othdebt   0.340217  0.165459  0.406091  ...  0.633104  1.000000  0.145713\n",
              "default  -0.137657  0.114676 -0.282978  ...  0.244740  0.145713  1.000000\n",
              "\n",
              "[9 rows x 9 columns]"
            ]
          },
          "metadata": {
            "tags": []
          },
          "execution_count": 101
        }
      ]
    },
    {
      "cell_type": "code",
      "metadata": {
        "colab": {
          "base_uri": "https://localhost:8080/",
          "height": 344
        },
        "id": "tcDCzj5yPawT",
        "outputId": "b7d2f223-0097-46b6-cd09-dbffec7a8a57"
      },
      "source": [
        "sns.heatmap(df.corr())"
      ],
      "execution_count": 102,
      "outputs": [
        {
          "output_type": "execute_result",
          "data": {
            "text/plain": [
              "<matplotlib.axes._subplots.AxesSubplot at 0x7f77b9b19d10>"
            ]
          },
          "metadata": {
            "tags": []
          },
          "execution_count": 102
        },
        {
          "output_type": "display_data",
          "data": {
            "image/png": "[encoded data removed]",
            "text/plain": [
              "<Figure size 432x288 with 2 Axes>"
            ]
          },
          "metadata": {
            "tags": [],
            "needs_background": "light"
          }
        }
      ]
    },
    {
      "cell_type": "code",
      "metadata": {
        "colab": {
          "base_uri": "https://localhost:8080/"
        },
        "id": "gGbZ0JNuPiW_",
        "outputId": "9eea7c07-589a-462f-ae2d-a561d01ae441"
      },
      "source": [
        "df.corr()[\"default\"]"
      ],
      "execution_count": 103,
      "outputs": [
        {
          "output_type": "execute_result",
          "data": {
            "text/plain": [
              "age        -0.137657\n",
              "ed          0.114676\n",
              "employ     -0.282978\n",
              "address    -0.164451\n",
              "income     -0.070970\n",
              "debtinc     0.389575\n",
              "creddebt    0.244740\n",
              "othdebt     0.145713\n",
              "default     1.000000\n",
              "Name: default, dtype: float64"
            ]
          },
          "metadata": {
            "tags": []
          },
          "execution_count": 103
        }
      ]
    },
    {
      "cell_type": "code",
      "metadata": {
        "id": "-oMNWZ8ITK5Z"
      },
      "source": [
        "from sklearn.linear_model import LogisticRegression"
      ],
      "execution_count": 104,
      "outputs": []
    },
    {
      "cell_type": "code",
      "metadata": {
        "id": "8BNiSjpTTLk4"
      },
      "source": [
        "x_train = df[['age','ed','employ','address','income','debtinc','creddebt','othdebt']]"
      ],
      "execution_count": 105,
      "outputs": []
    },
    {
      "cell_type": "code",
      "metadata": {
        "id": "P9xSFlVYWBef"
      },
      "source": [
        "y_train = df['default']"
      ],
      "execution_count": 106,
      "outputs": []
    },
    {
      "cell_type": "code",
      "metadata": {
        "id": "Vn-4qc7xWHul"
      },
      "source": [
        "df_test= data[data.default.isnull()]"
      ],
      "execution_count": 107,
      "outputs": []
    },
    {
      "cell_type": "code",
      "metadata": {
        "colab": {
          "base_uri": "https://localhost:8080/",
          "height": 204
        },
        "id": "Vo_ff1MfZ_nW",
        "outputId": "68c8c0e2-3c9e-487e-cb57-14cacee92bae"
      },
      "source": [
        "df_test.head()"
      ],
      "execution_count": 108,
      "outputs": [
        {
          "output_type": "execute_result",
          "data": {
            "text/html": [
              "<div>\n",
              "<style scoped>\n",
              "    .dataframe tbody tr th:only-of-type {\n",
              "        vertical-align: middle;\n",
              "    }\n",
              "\n",
              "    .dataframe tbody tr th {\n",
              "        vertical-align: top;\n",
              "    }\n",
              "\n",
              "    .dataframe thead th {\n",
              "        text-align: right;\n",
              "    }\n",
              "</style>\n",
              "<table border=\"1\" class=\"dataframe\">\n",
              "  <thead>\n",
              "    <tr style=\"text-align: right;\">\n",
              "      <th></th>\n",
              "      <th>age</th>\n",
              "      <th>ed</th>\n",
              "      <th>employ</th>\n",
              "      <th>address</th>\n",
              "      <th>income</th>\n",
              "      <th>debtinc</th>\n",
              "      <th>creddebt</th>\n",
              "      <th>othdebt</th>\n",
              "      <th>default</th>\n",
              "    </tr>\n",
              "  </thead>\n",
              "  <tbody>\n",
              "    <tr>\n",
              "      <th>700</th>\n",
              "      <td>36</td>\n",
              "      <td>1</td>\n",
              "      <td>16</td>\n",
              "      <td>13</td>\n",
              "      <td>32</td>\n",
              "      <td>10.9</td>\n",
              "      <td>0.544128</td>\n",
              "      <td>2.943872</td>\n",
              "      <td>NaN</td>\n",
              "    </tr>\n",
              "    <tr>\n",
              "      <th>701</th>\n",
              "      <td>50</td>\n",
              "      <td>1</td>\n",
              "      <td>6</td>\n",
              "      <td>27</td>\n",
              "      <td>21</td>\n",
              "      <td>12.9</td>\n",
              "      <td>1.316574</td>\n",
              "      <td>1.392426</td>\n",
              "      <td>NaN</td>\n",
              "    </tr>\n",
              "    <tr>\n",
              "      <th>702</th>\n",
              "      <td>40</td>\n",
              "      <td>1</td>\n",
              "      <td>9</td>\n",
              "      <td>9</td>\n",
              "      <td>33</td>\n",
              "      <td>17.0</td>\n",
              "      <td>4.880700</td>\n",
              "      <td>0.729300</td>\n",
              "      <td>NaN</td>\n",
              "    </tr>\n",
              "    <tr>\n",
              "      <th>703</th>\n",
              "      <td>31</td>\n",
              "      <td>1</td>\n",
              "      <td>5</td>\n",
              "      <td>7</td>\n",
              "      <td>23</td>\n",
              "      <td>2.0</td>\n",
              "      <td>0.046000</td>\n",
              "      <td>0.414000</td>\n",
              "      <td>NaN</td>\n",
              "    </tr>\n",
              "    <tr>\n",
              "      <th>704</th>\n",
              "      <td>29</td>\n",
              "      <td>1</td>\n",
              "      <td>4</td>\n",
              "      <td>0</td>\n",
              "      <td>24</td>\n",
              "      <td>7.8</td>\n",
              "      <td>0.866736</td>\n",
              "      <td>1.005264</td>\n",
              "      <td>NaN</td>\n",
              "    </tr>\n",
              "  </tbody>\n",
              "</table>\n",
              "</div>"
            ],
            "text/plain": [
              "     age  ed  employ  address  income  debtinc  creddebt   othdebt  default\n",
              "700   36   1      16       13      32     10.9  0.544128  2.943872      NaN\n",
              "701   50   1       6       27      21     12.9  1.316574  1.392426      NaN\n",
              "702   40   1       9        9      33     17.0  4.880700  0.729300      NaN\n",
              "703   31   1       5        7      23      2.0  0.046000  0.414000      NaN\n",
              "704   29   1       4        0      24      7.8  0.866736  1.005264      NaN"
            ]
          },
          "metadata": {
            "tags": []
          },
          "execution_count": 108
        }
      ]
    },
    {
      "cell_type": "code",
      "metadata": {
        "id": "T1iOHtdmaH-L"
      },
      "source": [
        "x_test = df_test.drop(columns='default')\n",
        "y_test = df_test['default']"
      ],
      "execution_count": 109,
      "outputs": []
    },
    {
      "cell_type": "code",
      "metadata": {
        "id": "Nc3cXVK1aUaS"
      },
      "source": [
        "logisticRegr = LogisticRegression()"
      ],
      "execution_count": 110,
      "outputs": []
    },
    {
      "cell_type": "code",
      "metadata": {
        "colab": {
          "base_uri": "https://localhost:8080/"
        },
        "id": "cYiJTlRjaYNg",
        "outputId": "a7b12792-126a-4e1c-b47f-3fd6b1b6fe77"
      },
      "source": [
        "logisticRegr.fit(x_train, y_train)"
      ],
      "execution_count": 111,
      "outputs": [
        {
          "output_type": "stream",
          "text": [
            "/usr/local/lib/python3.7/dist-packages/sklearn/linear_model/_logistic.py:940: ConvergenceWarning: lbfgs failed to converge (status=1):\n",
            "STOP: TOTAL NO. of ITERATIONS REACHED LIMIT.\n",
            "\n",
            "Increase the number of iterations (max_iter) or scale the data as shown in:\n",
            "    https://scikit-learn.org/stable/modules/preprocessing.html\n",
            "Please also refer to the documentation for alternative solver options:\n",
            "    https://scikit-learn.org/stable/modules/linear_model.html#logistic-regression\n",
            "  extra_warning_msg=_LOGISTIC_SOLVER_CONVERGENCE_MSG)\n"
          ],
          "name": "stderr"
        },
        {
          "output_type": "execute_result",
          "data": {
            "text/plain": [
              "LogisticRegression(C=1.0, class_weight=None, dual=False, fit_intercept=True,\n",
              "                   intercept_scaling=1, l1_ratio=None, max_iter=100,\n",
              "                   multi_class='auto', n_jobs=None, penalty='l2',\n",
              "                   random_state=None, solver='lbfgs', tol=0.0001, verbose=0,\n",
              "                   warm_start=False)"
            ]
          },
          "metadata": {
            "tags": []
          },
          "execution_count": 111
        }
      ]
    },
    {
      "cell_type": "code",
      "metadata": {
        "id": "2HMlPI4rbqnc"
      },
      "source": [
        "x_train_1 = df[['ed','debtinc','creddebt','othdebt']]\n",
        "y_train = df['default']"
      ],
      "execution_count": 112,
      "outputs": []
    },
    {
      "cell_type": "code",
      "metadata": {
        "id": "-s9S7_bbb5DZ"
      },
      "source": [
        "logisticRegr_1 = LogisticRegression()"
      ],
      "execution_count": 113,
      "outputs": []
    },
    {
      "cell_type": "code",
      "metadata": {
        "colab": {
          "base_uri": "https://localhost:8080/"
        },
        "id": "F3SbqwKdb5nf",
        "outputId": "33b80f0a-7449-42cd-8b05-1bf55cec3c8d"
      },
      "source": [
        "logisticRegr_1.fit(x_train_1, y_train)"
      ],
      "execution_count": 114,
      "outputs": [
        {
          "output_type": "execute_result",
          "data": {
            "text/plain": [
              "LogisticRegression(C=1.0, class_weight=None, dual=False, fit_intercept=True,\n",
              "                   intercept_scaling=1, l1_ratio=None, max_iter=100,\n",
              "                   multi_class='auto', n_jobs=None, penalty='l2',\n",
              "                   random_state=None, solver='lbfgs', tol=0.0001, verbose=0,\n",
              "                   warm_start=False)"
            ]
          },
          "metadata": {
            "tags": []
          },
          "execution_count": 114
        }
      ]
    },
    {
      "cell_type": "code",
      "metadata": {
        "id": "CUaH3_-dcnDP"
      },
      "source": [
        ""
      ],
      "execution_count": 114,
      "outputs": []
    },
    {
      "cell_type": "code",
      "metadata": {
        "id": "lJOpaN98vyAM"
      },
      "source": [
        "from sklearn.tree import DecisionTreeRegressor"
      ],
      "execution_count": 115,
      "outputs": []
    },
    {
      "cell_type": "code",
      "metadata": {
        "id": "uB_ipSc4v3PY"
      },
      "source": [
        "model = DecisionTreeRegressor()"
      ],
      "execution_count": 116,
      "outputs": []
    },
    {
      "cell_type": "code",
      "metadata": {
        "id": "u1IlcEKzwS-K"
      },
      "source": [
        "X = df[['age','ed','employ','address','income','debtinc','creddebt','othdebt']]\n",
        "y=df['default']"
      ],
      "execution_count": 117,
      "outputs": []
    },
    {
      "cell_type": "code",
      "metadata": {
        "colab": {
          "base_uri": "https://localhost:8080/"
        },
        "id": "XxcYVEwUv7jy",
        "outputId": "9b889886-ed43-4cb7-937e-a02e9b378661"
      },
      "source": [
        "model.fit(X, y)"
      ],
      "execution_count": 118,
      "outputs": [
        {
          "output_type": "execute_result",
          "data": {
            "text/plain": [
              "DecisionTreeRegressor(ccp_alpha=0.0, criterion='mse', max_depth=None,\n",
              "                      max_features=None, max_leaf_nodes=None,\n",
              "                      min_impurity_decrease=0.0, min_impurity_split=None,\n",
              "                      min_samples_leaf=1, min_samples_split=2,\n",
              "                      min_weight_fraction_leaf=0.0, presort='deprecated',\n",
              "                      random_state=None, splitter='best')"
            ]
          },
          "metadata": {
            "tags": []
          },
          "execution_count": 118
        }
      ]
    },
    {
      "cell_type": "code",
      "metadata": {
        "colab": {
          "base_uri": "https://localhost:8080/"
        },
        "id": "6Ufcv5WLwos6",
        "outputId": "1d7d194d-d1ab-4fa7-a1f6-28a95d104b91"
      },
      "source": [
        "importance = model.feature_importances_\n",
        "importance"
      ],
      "execution_count": 119,
      "outputs": [
        {
          "output_type": "execute_result",
          "data": {
            "text/plain": [
              "array([0.09488658, 0.02349093, 0.12994149, 0.09502079, 0.07821324,\n",
              "       0.23580509, 0.18792137, 0.1547205 ])"
            ]
          },
          "metadata": {
            "tags": []
          },
          "execution_count": 119
        }
      ]
    },
    {
      "cell_type": "code",
      "metadata": {
        "colab": {
          "base_uri": "https://localhost:8080/",
          "height": 408
        },
        "id": "eaaBVbqdw3Ny",
        "outputId": "88f25956-7aa0-4161-eadf-6e6b46a2dba4"
      },
      "source": [
        "# summarize feature importance\n",
        "for i,v in enumerate(importance):\n",
        "\tprint('Feature: %0d, Score: %.5f' % (i,v))\n",
        "# plot feature importance\n",
        "plt.bar([x for x in range(len(importance))], importance)\n",
        "plt.show()"
      ],
      "execution_count": 120,
      "outputs": [
        {
          "output_type": "stream",
          "text": [
            "Feature: 0, Score: 0.09489\n",
            "Feature: 1, Score: 0.02349\n",
            "Feature: 2, Score: 0.12994\n",
            "Feature: 3, Score: 0.09502\n",
            "Feature: 4, Score: 0.07821\n",
            "Feature: 5, Score: 0.23581\n",
            "Feature: 6, Score: 0.18792\n",
            "Feature: 7, Score: 0.15472\n"
          ],
          "name": "stdout"
        },
        {
          "output_type": "display_data",
          "data": {
            "image/png": "[encoded data removed]",
            "text/plain": [
              "<Figure size 432x288 with 1 Axes>"
            ]
          },
          "metadata": {
            "tags": [],
            "needs_background": "light"
          }
        }
      ]
    },
    {
      "cell_type": "code",
      "metadata": {
        "id": "uWjr5A2RxqOP"
      },
      "source": [
        "from sklearn.ensemble import RandomForestRegressor"
      ],
      "execution_count": 121,
      "outputs": []
    },
    {
      "cell_type": "code",
      "metadata": {
        "id": "to_H3jEQxq4U"
      },
      "source": [
        "model = RandomForestRegressor()\n"
      ],
      "execution_count": 122,
      "outputs": []
    },
    {
      "cell_type": "code",
      "metadata": {
        "colab": {
          "base_uri": "https://localhost:8080/"
        },
        "id": "59_2NzOnxx5C",
        "outputId": "ff77f49b-4502-4124-e4c6-653dffc30178"
      },
      "source": [
        "# fit the model\n",
        "model.fit(X, y)\n"
      ],
      "execution_count": 123,
      "outputs": [
        {
          "output_type": "execute_result",
          "data": {
            "text/plain": [
              "RandomForestRegressor(bootstrap=True, ccp_alpha=0.0, criterion='mse',\n",
              "                      max_depth=None, max_features='auto', max_leaf_nodes=None,\n",
              "                      max_samples=None, min_impurity_decrease=0.0,\n",
              "                      min_impurity_split=None, min_samples_leaf=1,\n",
              "                      min_samples_split=2, min_weight_fraction_leaf=0.0,\n",
              "                      n_estimators=100, n_jobs=None, oob_score=False,\n",
              "                      random_state=None, verbose=0, warm_start=False)"
            ]
          },
          "metadata": {
            "tags": []
          },
          "execution_count": 123
        }
      ]
    },
    {
      "cell_type": "code",
      "metadata": {
        "colab": {
          "base_uri": "https://localhost:8080/",
          "height": 408
        },
        "id": "WlYFynpoxzRx",
        "outputId": "62336b6c-fd98-4e35-cb56-840fa0ed096e"
      },
      "source": [
        "# get importance\n",
        "importance = model.feature_importances_\n",
        "# summarize feature importance\n",
        "for i,v in enumerate(importance):\n",
        "\tprint('Feature: %0d, Score: %.5f' % (i,v))\n",
        "# plot feature importance\n",
        "plt.bar([x for x in range(len(importance))], importance)\n",
        "plt.show()"
      ],
      "execution_count": 124,
      "outputs": [
        {
          "output_type": "stream",
          "text": [
            "Feature: 0, Score: 0.09821\n",
            "Feature: 1, Score: 0.02879\n",
            "Feature: 2, Score: 0.17263\n",
            "Feature: 3, Score: 0.10224\n",
            "Feature: 4, Score: 0.08527\n",
            "Feature: 5, Score: 0.23304\n",
            "Feature: 6, Score: 0.16341\n",
            "Feature: 7, Score: 0.11640\n"
          ],
          "name": "stdout"
        },
        {
          "output_type": "display_data",
          "data": {
            "image/png": "[encoded data removed]",
            "text/plain": [
              "<Figure size 432x288 with 1 Axes>"
            ]
          },
          "metadata": {
            "tags": [],
            "needs_background": "light"
          }
        }
      ]
    },
    {
      "cell_type": "code",
      "metadata": {
        "colab": {
          "base_uri": "https://localhost:8080/"
        },
        "id": "cMXmvRtEFMHt",
        "outputId": "a629b615-6044-4976-953b-b81e1b1967ed"
      },
      "source": [
        "print(f'Model Accuracy: {model.score(X, y)}')"
      ],
      "execution_count": 125,
      "outputs": [
        {
          "output_type": "stream",
          "text": [
            "Model Accuracy: 0.8906188498166175\n"
          ],
          "name": "stdout"
        }
      ]
    },
    {
      "cell_type": "code",
      "metadata": {
        "id": "2oUFOqIYyD-W"
      },
      "source": [
        "from sklearn.ensemble import RandomForestClassifier"
      ],
      "execution_count": 126,
      "outputs": []
    },
    {
      "cell_type": "code",
      "metadata": {
        "id": "DN0XZYkUyEbV"
      },
      "source": [
        "model = RandomForestClassifier()"
      ],
      "execution_count": 127,
      "outputs": []
    },
    {
      "cell_type": "code",
      "metadata": {
        "colab": {
          "base_uri": "https://localhost:8080/",
          "height": 412
        },
        "id": "76qlqdNWyG_H",
        "outputId": "c80632cc-46e7-4667-8a1a-928719e22f78"
      },
      "source": [
        "model.fit(X, y)\n",
        "# get importance\n",
        "importance = model.feature_importances_\n",
        "# summarize feature importance\n",
        "for i,v in enumerate(importance):\n",
        "\tprint('Feature: %0d, Score: %.5f' % (i,v))\n",
        "# plot feature importance\n",
        "plt.bar([x for x in range(len(importance))], importance)\n",
        "plt.show()"
      ],
      "execution_count": 128,
      "outputs": [
        {
          "output_type": "stream",
          "text": [
            "Feature: 0, Score: 0.10688\n",
            "Feature: 1, Score: 0.04012\n",
            "Feature: 2, Score: 0.15781\n",
            "Feature: 3, Score: 0.09511\n",
            "Feature: 4, Score: 0.10746\n",
            "Feature: 5, Score: 0.19198\n",
            "Feature: 6, Score: 0.16435\n",
            "Feature: 7, Score: 0.13629\n"
          ],
          "name": "stdout"
        },
        {
          "output_type": "display_data",
          "data": {
            "image/png": "[encoded data removed]",
            "text/plain": [
              "<Figure size 432x288 with 1 Axes>"
            ]
          },
          "metadata": {
            "tags": [],
            "needs_background": "light"
          }
        }
      ]
    },
    {
      "cell_type": "code",
      "metadata": {
        "id": "OWCZf2YxGSDq"
      },
      "source": [
        "from sklearn.tree import DecisionTreeClassifier"
      ],
      "execution_count": 129,
      "outputs": []
    },
    {
      "cell_type": "code",
      "metadata": {
        "id": "8Ora29CXHK5A"
      },
      "source": [
        "#save the feature name and target variables\n",
        "feature_names = X.columns\n",
        "labels = y.unique()"
      ],
      "execution_count": 130,
      "outputs": []
    },
    {
      "cell_type": "code",
      "metadata": {
        "id": "bHrKoxspol5B"
      },
      "source": [
        "from sklearn.model_selection import train_test_split\n",
        "x_train, x_test, y_train, y_test = train_test_split(X,y,\n",
        "                                                 test_size = 0.2,\n",
        "                                                 random_state = 42)"
      ],
      "execution_count": 131,
      "outputs": []
    },
    {
      "cell_type": "code",
      "metadata": {
        "colab": {
          "base_uri": "https://localhost:8080/"
        },
        "id": "e8Dwshw6HYP_",
        "outputId": "c0bec845-81ae-4d5b-f748-a139144ae05b"
      },
      "source": [
        "labels"
      ],
      "execution_count": 132,
      "outputs": [
        {
          "output_type": "execute_result",
          "data": {
            "text/plain": [
              "array([1., 0.])"
            ]
          },
          "metadata": {
            "tags": []
          },
          "execution_count": 132
        }
      ]
    },
    {
      "cell_type": "code",
      "metadata": {
        "colab": {
          "base_uri": "https://localhost:8080/"
        },
        "id": "9PlhFm6BGSlb",
        "outputId": "f5f83553-8666-4d27-c1f0-2da22ef330f5"
      },
      "source": [
        "clf = DecisionTreeClassifier(max_depth =3, random_state = 42)\n",
        "clf.fit(x_train, y_train)"
      ],
      "execution_count": 133,
      "outputs": [
        {
          "output_type": "execute_result",
          "data": {
            "text/plain": [
              "DecisionTreeClassifier(ccp_alpha=0.0, class_weight=None, criterion='gini',\n",
              "                       max_depth=3, max_features=None, max_leaf_nodes=None,\n",
              "                       min_impurity_decrease=0.0, min_impurity_split=None,\n",
              "                       min_samples_leaf=1, min_samples_split=2,\n",
              "                       min_weight_fraction_leaf=0.0, presort='deprecated',\n",
              "                       random_state=42, splitter='best')"
            ]
          },
          "metadata": {
            "tags": []
          },
          "execution_count": 133
        }
      ]
    },
    {
      "cell_type": "code",
      "metadata": {
        "id": "xCGcb_r2GU-T"
      },
      "source": [
        "#import relevant packages\n",
        "#from sklearn import tree\n",
        "\n",
        "#plt the figure, setting a black background\n",
        "#plt.figure(figsize=(30,10), facecolor ='k')\n",
        "#create the tree plot\n",
        "#a = tree.plot_tree(clf,\n",
        "                   #use the feature names stored\n",
        "                   #feature_names = feature_names,\n",
        "                   #use the class names stored\n",
        "                   #class_names = labels,\n",
        "                   #rounded = True,\n",
        "                   #filled = True)\n",
        "\n",
        "#show the plot\n",
        "#plt.show()"
      ],
      "execution_count": 134,
      "outputs": []
    },
    {
      "cell_type": "code",
      "metadata": {
        "colab": {
          "base_uri": "https://localhost:8080/"
        },
        "id": "5xX1EPjZGcaV",
        "outputId": "7c48cb6a-bb7a-4a67-8fa9-b7fa1261e2f1"
      },
      "source": [
        "#import relevant functions\n",
        "from sklearn.tree import export_text\n",
        "#export the decision rules\n",
        "tree_rules = export_text(clf,\n",
        "                        feature_names = list(feature_names))\n",
        "#print the result\n",
        "print(tree_rules)"
      ],
      "execution_count": 135,
      "outputs": [
        {
          "output_type": "stream",
          "text": [
            "|--- debtinc <= 12.45\n",
            "|   |--- employ <= 4.50\n",
            "|   |   |--- age <= 32.50\n",
            "|   |   |   |--- class: 0.0\n",
            "|   |   |--- age >  32.50\n",
            "|   |   |   |--- class: 0.0\n",
            "|   |--- employ >  4.50\n",
            "|   |   |--- creddebt <= 8.43\n",
            "|   |   |   |--- class: 0.0\n",
            "|   |   |--- creddebt >  8.43\n",
            "|   |   |   |--- class: 1.0\n",
            "|--- debtinc >  12.45\n",
            "|   |--- employ <= 3.50\n",
            "|   |   |--- debtinc <= 24.30\n",
            "|   |   |   |--- class: 1.0\n",
            "|   |   |--- debtinc >  24.30\n",
            "|   |   |   |--- class: 1.0\n",
            "|   |--- employ >  3.50\n",
            "|   |   |--- creddebt <= 4.85\n",
            "|   |   |   |--- class: 0.0\n",
            "|   |   |--- creddebt >  4.85\n",
            "|   |   |   |--- class: 1.0\n",
            "\n"
          ],
          "name": "stdout"
        }
      ]
    },
    {
      "cell_type": "code",
      "metadata": {
        "id": "NFdl2mCxGjaA"
      },
      "source": [
        "test_pred_decision_tree = clf.predict(x_test)"
      ],
      "execution_count": 136,
      "outputs": []
    },
    {
      "cell_type": "code",
      "metadata": {
        "colab": {
          "base_uri": "https://localhost:8080/",
          "height": 326
        },
        "id": "i4ywIxRPGx8u",
        "outputId": "138dfa53-43c9-450a-a0c8-4c5adc982f65"
      },
      "source": [
        "#import the relevant packages\n",
        "from sklearn import metrics\n",
        "import seaborn as sns\n",
        "import matplotlib.pyplot as plt\n",
        "#get the confusion matrix\n",
        "confusion_matrix = metrics.confusion_matrix(y_test,  \n",
        "                                            test_pred_decision_tree)\n",
        "#turn this into a dataframe\n",
        "matrix_df = pd.DataFrame(confusion_matrix)\n",
        "#plot the result\n",
        "ax = plt.axes()\n",
        "sns.set(font_scale=1.3)\n",
        "plt.figure(figsize=(10,7))\n",
        "sns.heatmap(matrix_df, annot=True, fmt=\"g\", ax=ax, cmap=\"magma\")\n",
        "#set axis titles\n",
        "ax.set_title('Confusion Matrix - Decision Tree')\n",
        "ax.set_xlabel(\"Predicted label\", fontsize =15)\n",
        "#ax.set_xticklabels(['']+labels)\n",
        "ax.set_ylabel(\"True Label\", fontsize=15)\n",
        "ax.set_yticklabels(list(labels), rotation = 0)\n",
        "plt.show()"
      ],
      "execution_count": 137,
      "outputs": [
        {
          "output_type": "display_data",
          "data": {
            "image/png": "[encoded data removed]",
            "text/plain": [
              "<Figure size 432x288 with 2 Axes>"
            ]
          },
          "metadata": {
            "tags": [],
            "needs_background": "light"
          }
        },
        {
          "output_type": "display_data",
          "data": {
            "text/plain": [
              "<Figure size 720x504 with 0 Axes>"
            ]
          },
          "metadata": {
            "tags": []
          }
        }
      ]
    },
    {
      "cell_type": "code",
      "metadata": {
        "colab": {
          "base_uri": "https://localhost:8080/"
        },
        "id": "uGPru7MuIJMg",
        "outputId": "4b892901-fa64-4bcd-f96c-8dadd5463c75"
      },
      "source": [
        "metrics.accuracy_score(y_test, test_pred_decision_tree)\n"
      ],
      "execution_count": 138,
      "outputs": [
        {
          "output_type": "execute_result",
          "data": {
            "text/plain": [
              "0.7928571428571428"
            ]
          },
          "metadata": {
            "tags": []
          },
          "execution_count": 138
        }
      ]
    },
    {
      "cell_type": "code",
      "metadata": {
        "id": "f6YYs3pxCwC5"
      },
      "source": [
        "import xgboost as xgb\n",
        "from sklearn.metrics import mean_squared_error"
      ],
      "execution_count": 139,
      "outputs": []
    },
    {
      "cell_type": "code",
      "metadata": {
        "id": "PhCISQ_ECwu4"
      },
      "source": [
        "data_dmatrix = xgb.DMatrix(data=X,label=y)"
      ],
      "execution_count": 140,
      "outputs": []
    },
    {
      "cell_type": "code",
      "metadata": {
        "id": "HyMpHficC2gp"
      },
      "source": [
        "from sklearn.model_selection import train_test_split\n",
        "\n",
        "X_train, X_test, y_train, y_test = train_test_split(X, y, test_size=0.2, random_state=123)"
      ],
      "execution_count": 141,
      "outputs": []
    },
    {
      "cell_type": "code",
      "metadata": {
        "id": "YL5ZbsRDC8Nd"
      },
      "source": [
        "xg_reg = xgb.XGBRegressor(objective ='reg:logistic', colsample_bytree = 0.3, learning_rate = 0.1,\n",
        "                max_depth = 5, alpha = 10, n_estimators = 10)"
      ],
      "execution_count": 142,
      "outputs": []
    },
    {
      "cell_type": "code",
      "metadata": {
        "id": "QAP1QxU3E3BU"
      },
      "source": [
        "xg_reg.fit(X_train,y_train)\n",
        "\n",
        "preds = xg_reg.predict(X_test)"
      ],
      "execution_count": 143,
      "outputs": []
    },
    {
      "cell_type": "code",
      "metadata": {
        "colab": {
          "base_uri": "https://localhost:8080/"
        },
        "id": "9f_gg3VwE56A",
        "outputId": "014328fd-b7f6-4824-8fb4-b4c15881bb45"
      },
      "source": [
        "rmse = np.sqrt(mean_squared_error(y_test, preds))\n",
        "print(\"RMSE: %f\" % (rmse))"
      ],
      "execution_count": 144,
      "outputs": [
        {
          "output_type": "stream",
          "text": [
            "RMSE: 0.425300\n"
          ],
          "name": "stdout"
        }
      ]
    },
    {
      "cell_type": "code",
      "metadata": {
        "id": "Uy0cNrWKE8sP"
      },
      "source": [
        "params = {\"objective\":\"reg:logistic\",'colsample_bytree': 0.3,'learning_rate': 0.1,\n",
        "                'max_depth': 5, 'alpha': 10}\n",
        "\n",
        "cv_results = xgb.cv(dtrain=data_dmatrix, params=params, nfold=3,\n",
        "                    num_boost_round=50,early_stopping_rounds=10,metrics=\"rmse\", as_pandas=True, seed=123)"
      ],
      "execution_count": 145,
      "outputs": []
    },
    {
      "cell_type": "code",
      "metadata": {
        "colab": {
          "base_uri": "https://localhost:8080/",
          "height": 204
        },
        "id": "AxlEZCA9Fwkc",
        "outputId": "35c15a24-ed52-41c1-e6fd-ca73e18d52fb"
      },
      "source": [
        "cv_results.head()"
      ],
      "execution_count": 146,
      "outputs": [
        {
          "output_type": "execute_result",
          "data": {
            "text/html": [
              "<div>\n",
              "<style scoped>\n",
              "    .dataframe tbody tr th:only-of-type {\n",
              "        vertical-align: middle;\n",
              "    }\n",
              "\n",
              "    .dataframe tbody tr th {\n",
              "        vertical-align: top;\n",
              "    }\n",
              "\n",
              "    .dataframe thead th {\n",
              "        text-align: right;\n",
              "    }\n",
              "</style>\n",
              "<table border=\"1\" class=\"dataframe\">\n",
              "  <thead>\n",
              "    <tr style=\"text-align: right;\">\n",
              "      <th></th>\n",
              "      <th>train-rmse-mean</th>\n",
              "      <th>train-rmse-std</th>\n",
              "      <th>test-rmse-mean</th>\n",
              "      <th>test-rmse-std</th>\n",
              "    </tr>\n",
              "  </thead>\n",
              "  <tbody>\n",
              "    <tr>\n",
              "      <th>0</th>\n",
              "      <td>0.489567</td>\n",
              "      <td>0.000906</td>\n",
              "      <td>0.489788</td>\n",
              "      <td>0.000667</td>\n",
              "    </tr>\n",
              "    <tr>\n",
              "      <th>1</th>\n",
              "      <td>0.479402</td>\n",
              "      <td>0.000735</td>\n",
              "      <td>0.480193</td>\n",
              "      <td>0.001344</td>\n",
              "    </tr>\n",
              "    <tr>\n",
              "      <th>2</th>\n",
              "      <td>0.469963</td>\n",
              "      <td>0.000875</td>\n",
              "      <td>0.471482</td>\n",
              "      <td>0.001428</td>\n",
              "    </tr>\n",
              "    <tr>\n",
              "      <th>3</th>\n",
              "      <td>0.461201</td>\n",
              "      <td>0.001018</td>\n",
              "      <td>0.463357</td>\n",
              "      <td>0.002984</td>\n",
              "    </tr>\n",
              "    <tr>\n",
              "      <th>4</th>\n",
              "      <td>0.454614</td>\n",
              "      <td>0.000853</td>\n",
              "      <td>0.457505</td>\n",
              "      <td>0.003158</td>\n",
              "    </tr>\n",
              "  </tbody>\n",
              "</table>\n",
              "</div>"
            ],
            "text/plain": [
              "   train-rmse-mean  train-rmse-std  test-rmse-mean  test-rmse-std\n",
              "0         0.489567        0.000906        0.489788       0.000667\n",
              "1         0.479402        0.000735        0.480193       0.001344\n",
              "2         0.469963        0.000875        0.471482       0.001428\n",
              "3         0.461201        0.001018        0.463357       0.002984\n",
              "4         0.454614        0.000853        0.457505       0.003158"
            ]
          },
          "metadata": {
            "tags": []
          },
          "execution_count": 146
        }
      ]
    },
    {
      "cell_type": "code",
      "metadata": {
        "colab": {
          "base_uri": "https://localhost:8080/"
        },
        "id": "33AVlJjQF205",
        "outputId": "2cba9de8-3215-4dcc-936d-a9ef5b03df56"
      },
      "source": [
        "print((cv_results[\"test-rmse-mean\"]).tail(1))"
      ],
      "execution_count": 147,
      "outputs": [
        {
          "output_type": "stream",
          "text": [
            "49    0.397762\n",
            "Name: test-rmse-mean, dtype: float64\n"
          ],
          "name": "stdout"
        }
      ]
    },
    {
      "cell_type": "code",
      "metadata": {
        "id": "MZneFr2iF7pM"
      },
      "source": [
        "xg_reg = xgb.train(params=params, dtrain=data_dmatrix, num_boost_round=10)"
      ],
      "execution_count": 148,
      "outputs": []
    },
    {
      "cell_type": "code",
      "metadata": {
        "colab": {
          "base_uri": "https://localhost:8080/",
          "height": 190
        },
        "id": "dtu_rwMMF_oF",
        "outputId": "e6e70eb9-67b3-4dac-dba5-b73340aaecb5"
      },
      "source": [
        "import matplotlib.pyplot as plt\n",
        "\n",
        "xgb.plot_tree(xg_reg,num_trees=0)\n",
        "plt.rcParams['figure.figsize'] = [50, 10]\n",
        "plt.show()"
      ],
      "execution_count": 149,
      "outputs": [
        {
          "output_type": "display_data",
          "data": {
            "image/png": "[encoded data removed]",
            "text/plain": [
              "<Figure size 432x288 with 1 Axes>"
            ]
          },
          "metadata": {
            "tags": []
          }
        }
      ]
    },
    {
      "cell_type": "code",
      "metadata": {
        "colab": {
          "base_uri": "https://localhost:8080/",
          "height": 290
        },
        "id": "mfClwch_GEdK",
        "outputId": "e59ad559-6f72-478e-c024-a60ade1ab0c0"
      },
      "source": [
        "xgb.plot_importance(xg_reg)\n",
        "plt.rcParams['figure.figsize'] = [5, 5]\n",
        "plt.show()"
      ],
      "execution_count": 150,
      "outputs": [
        {
          "output_type": "display_data",
          "data": {
            "image/png": "[encoded data removed]",
            "text/plain": [
              "<Figure size 3600x720 with 1 Axes>"
            ]
          },
          "metadata": {
            "tags": []
          }
        }
      ]
    }
  ]
}